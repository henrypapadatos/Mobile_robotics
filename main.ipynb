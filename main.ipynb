{
 "cells": [
  {
   "cell_type": "code",
   "execution_count": 16,
   "id": "4e6497bc",
   "metadata": {},
   "outputs": [],
   "source": [
    "# -*- coding: utf-8 -*-\n",
    "\"\"\"\n",
    "Created on Sun Nov 28 17:03:23 2021\n",
    "\n",
    "@author: henry papapatos\n",
    "\"\"\"\n",
    "import numpy as np\n",
    "import sys\n",
    "#sys.path.append(r'C:\\Users\\Usuario\\OneDrive - epfl.ch\\Documents\\EPFL\\Basics of mobile robotics\\PROJET\\Github\\Mobile_robotics')\n",
    "import math\n",
    "import cv2 \n",
    "import time\n",
    "import importlib\n",
    "import filters \n",
    "import computer_vision\n",
    "import path_planning\n",
    "\n",
    "TRESH_DIST = 3 #mm\n",
    "CAMERA = 0 # Camera\n",
    "\n",
    "def main():\n",
    "         \n",
    "    try:              \n",
    "        frame_init = computer_vision.get_image(cap)\n",
    "        \n",
    "        # we need to wait a bit otherwise the image is yellow \n",
    "        time.sleep(3)\n",
    "        \n",
    "        print(\"take the rigth image\")\n",
    "        frame_init = computer_vision.get_image(cap)\n",
    "        \n",
    "        #frame_init = cv2.cvtColor(frame_init, cv2.COLOR_BGR2RGB)\n",
    "        frame_init_crop = cv2.resize(frame_init,None, fx=0.5, fy= 0.5, interpolation = cv2.INTER_CUBIC)\n",
    "\n",
    "        cv2.imshow('frame', frame_init_crop)\n",
    "        \n",
    "        cv2.waitKey(0)\n",
    "        \n",
    "        cv2.imwrite(r'C:\\Users\\papad\\OneDrive\\Images\\Pellicule\\img.jpg', frame_init) #POUR TUNING PAR ELIOTT\n",
    "        \n",
    "        # Extract vertexes, goals, thymio's start position and orientation from first frame\n",
    "        start_pos, obst_vertexes, goals_pos, px_to_mm = computer_vision.Init(frame_init)\n",
    "        \n",
    "        computer_vision.display_obstacle(frame_init, start_pos, goals_pos, obst_vertexes)\n",
    "        \n",
    "        frame_init_crop = cv2.resize(frame_init,None, fx=0.5, fy= 0.5, interpolation = cv2.INTER_CUBIC)\n",
    "        \n",
    "        cv2.imshow('frame', frame_init_crop)\n",
    "        \n",
    "        cv2.waitKey(0)\n",
    "        \n",
    "        cv2.imwrite(r'C:\\Users\\papad\\OneDrive\\Images\\Pellicule\\img_obstacle.jpg', frame_init) #POUR TUNING PAR ELIOTT\n",
    "        \n",
    "        goal_list = path_planning.get_optimal_path(start_pos, goals_pos, obst_vertexes, \n",
    "                                                   px_to_mm, draw = True, image = frame_init)\n",
    "        \n",
    "        frame_init_crop = cv2.resize(frame_init,None, fx=0.5, fy= 0.5, interpolation = cv2.INTER_CUBIC)\n",
    "        \n",
    "        cv2.imwrite(r'C:\\Users\\papad\\OneDrive\\Images\\Pellicule\\img_path.jpg', frame_init) #POUR TUNING PAR ELIOTT\n",
    "\n",
    "        cv2.imshow('frame', frame_init_crop)\n",
    "        \n",
    "        cv2.waitKey(0)\n",
    "        \n",
    "        # The estimated state vector at time t-1 in the global reference frame.\n",
    "        # [x_t_minus_1, y_t_minus_1, yaw_t_minus_1]\n",
    "        x_est_t_minus_1, hidden_cam = computer_vision.vision(frame_init, px_to_mm)\n",
    "        # x_est_t_minus_1 = np.array([0.0,0.0,0.0])\n",
    "        \n",
    "        # The control input vector at time t-1 in the global reference frame.\n",
    "        # [v, yaw_rate]\n",
    "        u_t_minus_1 = np.array([0 ,0])\n",
    "         \n",
    "        # State covariance matrix P_t_minus_1\n",
    "        P_t_minus_1 = np.array([[0.1,  0,   0],\n",
    "                                [  0,0.1,   0],\n",
    "                                [  0,  0, 0.1]])\n",
    "    \n",
    "    \n",
    "        #update le dt car sinon kalman marche pas\n",
    "        dt = 1 # EN SECONDES POUR KALMAN!!!!! same as PI_CLOCK of pid defined in filters?\n",
    "        sum_error = 0 \n",
    "        alt_error_pid = 0\n",
    "        \n",
    "        while len(goal_list)!=0:\n",
    "            \n",
    "            frame = computer_vision.get_image(cap)\n",
    "            \n",
    "            ##### APPELER get_vision_position##########\n",
    "            obs_vector_z_t, hidden_cam = computer_vision.vision(frame, px_to_mm)\n",
    "            \n",
    "            \n",
    "            computer_vision.display_obstacle(frame_init, start_pos, goals_pos, obst_vertexes)\n",
    "            \n",
    "            computer_vision.display_pos(frame, obs_vector_z_t[0:1], is_from_camera = True)\n",
    "            \n",
    "            \n",
    "            print(f'Timestep measurement={obs_vector_z_t}')\n",
    "    \n",
    "            # Run the Extended Kalman Filter and store the \n",
    "            # near-optimal state and covariance estimates\n",
    "            optimal_state_estimate_t, covariance_estimate_t = filters.ekf(\n",
    "                obs_vector_z_t, # Most recent sensor measurement\n",
    "                x_est_t_minus_1, # Our most recent estimate of the state\n",
    "                u_t_minus_1, # Our most recent control input\n",
    "                P_t_minus_1, # Our most recent state covariance matrix\n",
    "                dt,hidden_cam) # Time interval\n",
    "            \n",
    "            computer_vision.display_pos(frame, optimal_state_estimate_t[0:1], is_from_camera = False)\n",
    "            \n",
    "            cv2.imshow('running frame', frame)\n",
    "            \n",
    "            if np.linalg.norm(optimal_state_estimate_t-goal_list[0]) < TRESH_DIST:\n",
    "                goal_list.pop(0)\n",
    "                \n",
    "            # Get ready for the next timestep by updating the variable values\n",
    "            x_est_t_minus_1 = optimal_state_estimate_t\n",
    "            P_t_minus_1 = covariance_estimate_t\n",
    "            \n",
    "            #check if obstacle in coming\n",
    "            \n",
    "            #if no\n",
    "            ######APPELER PID##########\n",
    "            # sum_error, alt_error_pid, v_l,v_d = filters.pid(optimal_state_estimate_t,goal_list,sum_error, alt_error_pid,dt)\n",
    "            # v = (v_l + v_d)*SPEED_TO_MMS/2\n",
    "            # yaw = (v_d - v_l)*YAW_TO_MMS\n",
    "            # u_t_minus_1 = [v, yaw]; # delta_v returned by PID\n",
    "            u_t_minus_1 = 0;\n",
    "            \n",
    "            #if yes, obstacle avoidance \n",
    "            \n",
    "    finally: \n",
    "        cv2.destroyAllWindows()\n",
    "\n"
   ]
  },
  {
   "cell_type": "code",
   "execution_count": 10,
   "id": "eb4022d2",
   "metadata": {},
   "outputs": [
    {
     "name": "stdout",
     "output_type": "stream",
     "text": [
      "Connecting to camera...\n",
      "Camera connected !\n"
     ]
    }
   ],
   "source": [
    "print('Connecting to camera...')\n",
    "cap=cv2.VideoCapture(CAMERA) # Either 0 or 1, front camera or external cam\n",
    "print('Camera connected !')"
   ]
  },
  {
   "cell_type": "code",
   "execution_count": 11,
   "id": "6c50cbee",
   "metadata": {},
   "outputs": [
    {
     "name": "stdout",
     "output_type": "stream",
     "text": [
      "setting parameters...\n",
      "first parameter set\n",
      "second parameter set\n"
     ]
    }
   ],
   "source": [
    "#get the full quality of the camera\n",
    "print(\"setting parameters...\")\n",
    "cap.set(3,1920) \n",
    "print(\"first parameter set\")\n",
    "cap.set(4,1080)\n",
    "print(\"second parameter set\")"
   ]
  },
  {
   "cell_type": "code",
   "execution_count": 13,
   "id": "fcce39fd",
   "metadata": {},
   "outputs": [
    {
     "data": {
      "text/plain": [
       "<module 'computer_vision' from 'C:\\\\Users\\\\papad\\\\OneDrive\\\\Documents\\\\MA1\\\\Basic_of_mobile_robotics\\\\project\\\\Mobile_robotics\\\\computer_vision.py'>"
      ]
     },
     "execution_count": 13,
     "metadata": {},
     "output_type": "execute_result"
    }
   ],
   "source": [
    "importlib.reload(filters)\n",
    "importlib.reload(path_planning)\n",
    "importlib.reload(computer_vision)"
   ]
  },
  {
   "cell_type": "code",
   "execution_count": null,
   "id": "265c103c",
   "metadata": {},
   "outputs": [
    {
     "name": "stdout",
     "output_type": "stream",
     "text": [
      "take the rigth image\n",
      "test2\n"
     ]
    }
   ],
   "source": [
    "main()"
   ]
  },
  {
   "cell_type": "code",
   "execution_count": 8,
   "id": "ab769a38",
   "metadata": {},
   "outputs": [],
   "source": [
    "cap.release()"
   ]
  }
 ],
 "metadata": {
  "kernelspec": {
   "display_name": "Python 3 (ipykernel)",
   "language": "python",
   "name": "python3"
  },
  "language_info": {
   "codemirror_mode": {
    "name": "ipython",
    "version": 3
   },
   "file_extension": ".py",
   "mimetype": "text/x-python",
   "name": "python",
   "nbconvert_exporter": "python",
   "pygments_lexer": "ipython3",
   "version": "3.9.7"
  }
 },
 "nbformat": 4,
 "nbformat_minor": 5
}
