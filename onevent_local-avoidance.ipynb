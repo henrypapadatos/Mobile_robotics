{
 "cells": [
  {
   "cell_type": "code",
   "execution_count": null,
   "metadata": {},
   "outputs": [],
   "source": [
    "import os\n",
    "import sys\n",
    "import math\n",
    "from statistics import mean\n",
    "import pandas as pd\n",
    "import numpy as np\n",
    "import matplotlib.pyplot as plt\n",
    "from scipy.interpolate import interp1d\n",
    "\n",
    "\n",
    "sys.path.insert(0, os.path.join(os.getcwd(), 'src'))\n",
    "\n",
    "\n",
    "from local_occupancy import sensor_measurements, sensor_distances\n",
    "from local_occupancy import thymio_coords, sensor_pos_from_center, sensor_angles\n",
    "\n",
    "%matplotlib inline"
   ]
  },
  {
   "cell_type": "code",
   "execution_count": null,
   "metadata": {},
   "outputs": [],
   "source": [
    "import tdmclient.notebook\n",
    "await tdmclient.notebook.start()"
   ]
  },
  {
   "cell_type": "code",
   "execution_count": null,
   "metadata": {},
   "outputs": [],
   "source": [
    "%%run_python #%%transpile_to_aseba # Change to show the code generated in Aseba\n",
    "\n",
    "# This program implements obstacle avoidance using an ANN\n",
    "# The inputs x1-7 are taken from the proximity sensors and scaled\n",
    "# The inputs are multiplied by the weights \n",
    "#   and used to set the motor powers\n",
    "# The center button starts and stops the robot\n",
    "\n",
    "# State for start and stop, why is this instruction here? (hint: look at the aseba transpile code)\n",
    "state = 1\n",
    "y = [0,0]  \n",
    "\n",
    "timer_period[0] = 10      \n",
    "    \n",
    "@onevent\n",
    "def button_center():\n",
    "    global state\n",
    "    if button_center == 1:\n",
    "        state = 1 if state==0 else 0\n",
    "\n",
    "@onevent\n",
    "def prox():\n",
    "    global prox_horizontal, motor_left_target, motor_right_target, button_center, state, y\n",
    "\n",
    "    blabla=0\n",
    "    w_l = [40,  20, -20, -20, -40,  30, -10, 8, 0]\n",
    "    w_r = [-40, -20, -20,  20,  40, -10, 30, 0, 8]\n",
    "\n",
    "    # Scale factors for sensors and constant factor\n",
    "    sensor_scale = 200\n",
    "    constant_scale = 20\n",
    "    \n",
    "    x = [0,0,0,0,0,0,0,0,0]\n",
    "    \n",
    "    if state != 0:\n",
    "        # Memory\n",
    "        x[7] = y[0]//20\n",
    "        x[8] = y[1]//20\n",
    "        \n",
    "        for i in range(7):\n",
    "            # Get and scale inputs\n",
    "            x[i] = prox_horizontal[i] // sensor_scale\n",
    "        \n",
    "        y = [0,0]   \n",
    "        \n",
    "        for i in range(len(x)):    \n",
    "            # Compute outputs of neurons and set motor powers\n",
    "            y[0] = y[0] + x[i] * w_l[i]\n",
    "            y[1] = y[1] + x[i] * w_r[i]\n",
    "        \n",
    "    else: \n",
    "        # In case we would like to stop the robot\n",
    "        y = [0,0] \n",
    "    \n",
    "    # Set motor powers\n",
    "    motor_left_target = y[0]\n",
    "    motor_right_target = y[1]\n",
    "\n"
   ]
  },
  {
   "cell_type": "code",
   "execution_count": null,
   "metadata": {},
   "outputs": [],
   "source": [
    "%%run_python\n",
    "motor_left_target = 0\n",
    "motor_right_target = 0"
   ]
  },
  {
   "cell_type": "code",
   "execution_count": null,
   "metadata": {},
   "outputs": [],
   "source": [
    "await tdmclient.notebook.start()"
   ]
  }
 ],
 "metadata": {
  "kernelspec": {
   "display_name": "Python 3",
   "language": "python",
   "name": "python3"
  },
  "language_info": {
   "codemirror_mode": {
    "name": "ipython",
    "version": 3
   },
   "file_extension": ".py",
   "mimetype": "text/x-python",
   "name": "python",
   "nbconvert_exporter": "python",
   "pygments_lexer": "ipython3",
   "version": "3.7.4"
  }
 },
 "nbformat": 4,
 "nbformat_minor": 2
}
