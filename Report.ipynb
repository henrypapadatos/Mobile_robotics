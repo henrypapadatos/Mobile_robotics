{
 "cells": [
  {
   "cell_type": "markdown",
   "id": "e51680a5",
   "metadata": {},
   "source": [
    "<div style=\"border:1px solid black; padding:20px 20px;text-align: justify;text-justify: inter-word\">\n",
    "   <strong> Basics of Mobile Robotics: Project Report <br/> Autumn 2021 <br/><br/> Group members: </strong><br/><br/> Henry Papadatos <br/> Juliette Pelissier <br/> Eliott Sizey<br/> Aitana Waelbroeck-Boix\n",
    "    \n",
    "    \n",
    "</div>"
   ]
  },
  {
   "cell_type": "markdown",
   "id": "3d7ba6de",
   "metadata": {},
   "source": [
    "# Introduction"
   ]
  },
  {
   "cell_type": "markdown",
   "id": "f538b401",
   "metadata": {},
   "source": [
    "### Environment"
   ]
  },
  {
   "cell_type": "markdown",
   "id": "d62942c0",
   "metadata": {},
   "source": [
    "### State Machine\n"
   ]
  },
  {
   "cell_type": "markdown",
   "id": "b3f47b98",
   "metadata": {},
   "source": [
    "# Vision"
   ]
  },
  {
   "cell_type": "markdown",
   "id": "25490761",
   "metadata": {},
   "source": [
    "Color detection\n",
    "\n",
    "HSV principle\n",
    "\n",
    "Obstacle expansion\n",
    "\n",
    "Polygon "
   ]
  },
  {
   "cell_type": "markdown",
   "id": "f7102743",
   "metadata": {},
   "source": [
    "# Global Navigation"
   ]
  },
  {
   "cell_type": "markdown",
   "id": "3a83b3ce",
   "metadata": {},
   "source": [
    "Expliquer path planning\n",
    "\n",
    "Peut montrer ce que ça donne avec le module séparé du reste "
   ]
  },
  {
   "cell_type": "markdown",
   "id": "7b7cea60",
   "metadata": {},
   "source": [
    "# Local Navigation"
   ]
  },
  {
   "cell_type": "markdown",
   "id": "61762222",
   "metadata": {},
   "source": [
    "local avoidance\n",
    "\n",
    "memory"
   ]
  },
  {
   "cell_type": "markdown",
   "id": "8b6cb1e5",
   "metadata": {},
   "source": [
    "# Filtering"
   ]
  },
  {
   "cell_type": "markdown",
   "id": "b4ce1141",
   "metadata": {},
   "source": [
    "Kalman\n",
    "\n",
    "Commenter la decision expanded kalman or not\n",
    "\n",
    "initialisation matrices/tuning"
   ]
  },
  {
   "cell_type": "markdown",
   "id": "0501bd12",
   "metadata": {},
   "source": [
    "# Motion Control"
   ]
  },
  {
   "cell_type": "markdown",
   "id": "ae0a71c9",
   "metadata": {},
   "source": [
    "PID : mapping position sur 180 degrés "
   ]
  },
  {
   "cell_type": "markdown",
   "id": "692a66b8",
   "metadata": {},
   "source": [
    "# Conclusion"
   ]
  }
 ],
 "metadata": {
  "kernelspec": {
   "display_name": "Python 3",
   "language": "python",
   "name": "python3"
  },
  "language_info": {
   "codemirror_mode": {
    "name": "ipython",
    "version": 3
   },
   "file_extension": ".py",
   "mimetype": "text/x-python",
   "name": "python",
   "nbconvert_exporter": "python",
   "pygments_lexer": "ipython3",
   "version": "3.8.8"
  }
 },
 "nbformat": 4,
 "nbformat_minor": 5
}
