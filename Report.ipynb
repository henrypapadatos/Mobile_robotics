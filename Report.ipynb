{
 "cells": [
  {
   "cell_type": "markdown",
   "id": "d10a22db",
   "metadata": {},
   "source": [
    "<div style=\"border:1px solid black; padding:20px 20px;text-align: justify;text-justify: inter-word\">\n",
    "   <strong> Basics of Mobile Robotics: Project Report <br/> Autumn 2021 <br/><br/> Group members: </strong><br/><br/> Henry Papadatos <br/> Juliette Pelissier <br/> Eliott Sizey<br/> Aitana Waelbroeck-Boix\n",
    "    \n",
    "    \n",
    "</div>"
   ]
  },
  {
   "cell_type": "markdown",
   "id": "de55b0f1",
   "metadata": {},
   "source": [
    "# Introduction"
   ]
  },
  {
   "cell_type": "markdown",
   "id": "e0aa787a",
   "metadata": {},
   "source": [
    "### Environment"
   ]
  },
  {
   "cell_type": "markdown",
   "id": "90fc7c30",
   "metadata": {},
   "source": [
    "### State Machine\n"
   ]
  },
  {
   "cell_type": "markdown",
   "id": "6d12fa04",
   "metadata": {},
   "source": [
    "Our program starts by initialising the environment by analysing the first frame sent by the camera through the vision module. It determines the starting position of the Thymio, the corners of the obstacles and the center of the goals. The optimal path is then defined from those information in the path planning module. <br>\n",
    "The program then enters into the main loop which follows 4 steps:\n",
    "- Vision: Determines the pose (position + angle) of the Thymio using the images sent by the camera\n",
    "- Kalman filter: \n",
    "- Local avoidance:\n",
    "- Motion control: "
   ]
  },
  {
   "cell_type": "markdown",
   "id": "fbb1c121",
   "metadata": {},
   "source": [
    "PUT STATE MACHINE GRAPH HERE"
   ]
  },
  {
   "cell_type": "markdown",
   "id": "12f09860",
   "metadata": {},
   "source": [
    "# Vision"
   ]
  },
  {
   "cell_type": "markdown",
   "id": "4dc9700c",
   "metadata": {},
   "source": [
    "### Principle\n",
    "\n",
    "The goal of the vision part of the project is to map the environment in which the robot will move (obstacles and goals) and to keep track of its pose. Each element of the environment has a different color which allows color differentiation and localisation. From a frame captured by the camera, the most efficient way of doing color detection is to transform this frame from the BGR domain to the HSV domain and apply a range color filter that turns pixels in the range to white and the other pixels to black. Once this is done, the shapes of the detected objects are also used as described in the following subsections. CAN ALSO TALK ABOUT BLUR, ERODE AND DILATE.\n",
    "\n",
    "### HSV \n",
    "\n",
    "The HSV domain comprises three parameters that define a color: the hue, saturation and value. The hue \n",
    "Color detection\n",
    "\n",
    "HSV principle\n",
    "\n",
    "Obstacle expansion\n",
    "\n",
    "Polygon "
   ]
  },
  {
   "cell_type": "markdown",
   "id": "838d64c6",
   "metadata": {},
   "source": [
    "# Global Navigation"
   ]
  },
  {
   "cell_type": "markdown",
   "id": "e7f2624c",
   "metadata": {},
   "source": [
    "Expliquer path planning\n",
    "\n",
    "Peut montrer ce que ça donne avec le module séparé du reste "
   ]
  },
  {
   "cell_type": "markdown",
   "id": "4cf14a0e",
   "metadata": {},
   "source": [
    "# Local Navigation"
   ]
  },
  {
   "cell_type": "markdown",
   "id": "77960a66",
   "metadata": {},
   "source": [
    "local avoidance\n",
    "\n",
    "memory"
   ]
  },
  {
   "cell_type": "markdown",
   "id": "45d9c0f0",
   "metadata": {},
   "source": [
    "# Filtering"
   ]
  },
  {
   "cell_type": "markdown",
   "id": "43a63183",
   "metadata": {},
   "source": [
    "Kalman\n",
    "\n",
    "Commenter la decision expanded kalman or not\n",
    "\n",
    "initialisation matrices/tuning"
   ]
  },
  {
   "cell_type": "markdown",
   "id": "79522295",
   "metadata": {},
   "source": [
    "# Motion Control"
   ]
  },
  {
   "cell_type": "markdown",
   "id": "4f42ca39",
   "metadata": {},
   "source": [
    "PID : mapping position sur 180 degrés "
   ]
  },
  {
   "cell_type": "markdown",
   "id": "9c0c2026",
   "metadata": {},
   "source": [
    "# Conclusion"
   ]
  }
 ],
 "metadata": {
  "kernelspec": {
   "display_name": "Python 3",
   "language": "python",
   "name": "python3"
  },
  "language_info": {
   "codemirror_mode": {
    "name": "ipython",
    "version": 3
   },
   "file_extension": ".py",
   "mimetype": "text/x-python",
   "name": "python",
   "nbconvert_exporter": "python",
   "pygments_lexer": "ipython3",
   "version": "3.8.8"
  }
 },
 "nbformat": 4,
 "nbformat_minor": 5
}
